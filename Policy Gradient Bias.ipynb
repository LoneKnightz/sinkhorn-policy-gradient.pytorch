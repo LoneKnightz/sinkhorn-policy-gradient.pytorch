{
 "cells": [
  {
   "cell_type": "markdown",
   "metadata": {},
   "source": [
    "## Q-value analysis\n",
    "\n",
    "The policy gradient is biased, because the critic gradient in the policy gradient update is taken with respect to the soft permutation, whereas the critic is trained to minimize the MSE with the hard permutation. In this notebook, we investigate how this might be rectified\n",
    "\n",
    "First, we will look at the Q-values corresponding to various hard and soft permutations given a single state and an actor and critic network trained at various numbers of epochs. Based on intuition and informal results, it appears that the actor network learns to produce actions (soft-permutations) to maximize its reward function effectively (its objective is the negative Q-value) but the critic network has learned to produce Q-values for rounded soft-permutations (hard permutations, or binary matrices) that minimizes the MSE of the return. In other words, the actor has learned to game the critic to make it output arbitrarily larger and larger Q-values for soft-permutation inputs.\n",
    "\n",
    "Ideally, we can prevent the actor from \"gaming\" the critic to produce arbitrarily large Q-values, and instead try to have the Q-values for soft-permutations match those of the corresponding hard-permutation. Perhaps; add a penalty to the actor update to discourage the Q-value for the soft-permutation from deviating too far from the Q-value for the corresponding hard-permutation."
   ]
  },
  {
   "cell_type": "code",
   "execution_count": 191,
   "metadata": {
    "collapsed": true
   },
   "outputs": [],
   "source": [
    "import torch\n",
    "import numpy as np\n",
    "import os\n",
    "from itertools import permutations\n",
    "import matplotlib.pyplot as plt\n",
    "from matplotlib import colors as mcolors\n",
    "named_colors = dict(mcolors.BASE_COLORS, **mcolors.CSS4_COLORS)\n",
    "\n",
    "from sklearn.utils.linear_assignment_ import linear_assignment\n",
    "import seaborn as sns; sns.set()\n",
    "%matplotlib inline\n",
    "\n",
    "mwm2D_10_path = '/home/pemami/Workspace/sinkhorn-policy-gradient.pytorch/results/models/mwm2D/spg/siamese/888/'\n",
    "mwm2D_5_path = '/home/pemami/Workspace/sinkhorn-policy-gradient.pytorch/results/models/mwm2D/spg/siamese/999/'\n",
    "\n",
    "np.random.seed(0)\n",
    "torch.manual_seed(5)\n",
    "\n",
    "batch_size = 100\n",
    "\n",
    "def plot_epoch(actor_path, critic_path, state, epoch, N):\n",
    "    # Epoch 2\n",
    "    actor = torch.load(actor_path, map_location=lambda storage, loc: storage)\n",
    "    actor.cuda()\n",
    "    actor.cuda_after_load()\n",
    "    critic = torch.load(critic_path, map_location=lambda storage, loc: storage)\n",
    "    critic.cuda()\n",
    "    critic.cuda_after_load()\n",
    "\n",
    "    soft_perms, hard_perms, _, _ = actor.forward(state)\n",
    "    hard_Qs = critic.forward(state, hard_perms).squeeze(2).data.cpu().numpy()\n",
    "    soft_Qs = critic.forward(state, soft_perms).squeeze(2).data.cpu().numpy()\n",
    "\n",
    "    fig, ax = plt.subplots()\n",
    "    plt.title(\"MWM2D_{}_Epoch_{}\".format(N, epoch))\n",
    "    #plt.hist(hard_Qs, bins=20, label='hard_Qs', alpha=0.5)\n",
    "    #plt.hist(soft_Qs, bins=20, label='soft_Qs', alpha=0.5)\n",
    "    pl\n",
    "    plt.legend()\n",
    "    plt.grid()\n",
    "    \n",
    "    print('Actor loss = {}'.format(-np.mean(soft_Qs)))"
   ]
  },
  {
   "cell_type": "code",
   "execution_count": 197,
   "metadata": {
    "collapsed": true
   },
   "outputs": [],
   "source": [
    "# # For each epoch, load the actor and critic\n",
    "# # For 25 different states, plot a histogram of Q-values for the hard and soft permutations                             \n",
    "# state = torch.FloatTensor(batch_size, 4, N).uniform_(0, 1) \n",
    "# g1 = torch.transpose(state[:,0:2, :], 1, 2)\n",
    "# g2 = torch.transpose(state[:,2:4, :], 1, 2)\n",
    "# state = torch.cat([g1, g2], dim=1)\n",
    "# state = state.cuda()\n",
    "# state = torch.autograd.Variable(state, volatile=True)\n",
    "# print(state.size())\n",
    "\n",
    "# N = 5\n",
    "# epoch = 1 \n",
    "# actor_path = os.path.join(mwm2D_5_path, 'actor-epoch-1.pt')\n",
    "# critic_path = os.path.join(mwm2D_5_path, 'critic-epoch-1.pt')\n",
    "# plot_epoch(actor_path, critic_path, state, epoch, N)\n",
    "\n",
    "# epoch = 2 \n",
    "# actor_path = os.path.join(mwm2D_5_path, 'actor-epoch-2.pt')\n",
    "# critic_path = os.path.join(mwm2D_5_path, 'critic-epoch-2.pt')\n",
    "# plot_epoch(actor_path, critic_path, state, epoch, N)\n",
    "\n",
    "# epoch = 3\n",
    "# actor_path = os.path.join(mwm2D_5_path, 'actor-epoch-3.pt')\n",
    "# critic_path = os.path.join(mwm2D_5_path, 'critic-epoch-3.pt')\n",
    "# plot_epoch(actor_path, critic_path, state, epoch, N)\n",
    "\n",
    "# epoch = 4 \n",
    "# actor_path = os.path.join(mwm2D_5_path, 'actor-epoch-4.pt')\n",
    "# critic_path = os.path.join(mwm2D_5_path, 'critic-epoch-4.pt')\n",
    "# plot_epoch(actor_path, critic_path, state, epoch, N)\n",
    "\n",
    "# epoch = 5 \n",
    "# actor_path = os.path.join(mwm2D_5_path, 'actor-epoch-5.pt')\n",
    "# critic_path = os.path.join(mwm2D_5_path, 'critic-epoch-5.pt')\n",
    "# plot_epoch(actor_path, critic_path, state, epoch, N)\n",
    "\n",
    "# epoch = 6 \n",
    "# actor_path = os.path.join(mwm2D_5_path, 'actor-epoch-6.pt')\n",
    "# critic_path = os.path.join(mwm2D_5_path, 'critic-epoch-6.pt')\n",
    "# plot_epoch(actor_path, critic_path, state, epoch, N)"
   ]
  },
  {
   "cell_type": "code",
   "execution_count": 193,
   "metadata": {},
   "outputs": [
    {
     "name": "stdout",
     "output_type": "stream",
     "text": [
      "torch.Size([100, 20, 2])\n",
      "Actor loss = 0.1074516549706459\n"
     ]
    },
    {
     "name": "stderr",
     "output_type": "stream",
     "text": [
      "/home/pemami/anaconda3/lib/python3.6/site-packages/torch/serialization.py:286: SourceChangeWarning: source code of class 'spg.models.SPGSiameseActor' has changed. you can retrieve the original source code by accessing the object's source attribute or set `torch.nn.Module.dump_patches = True` and use the patch tool to revert the changes.\n",
      "  warnings.warn(msg, SourceChangeWarning)\n"
     ]
    },
    {
     "data": {
      "image/png": "[encoded data removed]",
      "text/plain": [
       "<matplotlib.figure.Figure at 0x7f3609927438>"
      ]
     },
     "metadata": {},
     "output_type": "display_data"
    }
   ],
   "source": [
    "N = 10\n",
    "\n",
    "# For each epoch, load the actor and critic\n",
    "# For 25 different states, plot a histogram of Q-values for the hard and soft permutations                             \n",
    "state = torch.FloatTensor(batch_size, 4, N).uniform_(0, 1) \n",
    "g1 = torch.transpose(state[:,0:2, :], 1, 2)\n",
    "g2 = torch.transpose(state[:,2:4, :], 1, 2)\n",
    "state = torch.cat([g1, g2], dim=1)\n",
    "state = state.cuda()\n",
    "state = torch.autograd.Variable(state, volatile=True)\n",
    "print(state.size())\n",
    "\n",
    "epoch = 1\n",
    "actor_path = os.path.join(mwm2D_10_path, 'actor-epoch-1.pt')\n",
    "critic_path = os.path.join(mwm2D_10_path, 'critic-epoch-1.pt')\n",
    "plot_epoch(actor_path, critic_path, state, epoch, N)"
   ]
  },
  {
   "cell_type": "code",
   "execution_count": 194,
   "metadata": {},
   "outputs": [
    {
     "name": "stdout",
     "output_type": "stream",
     "text": [
      "Actor loss = -6.087742328643799\n"
     ]
    },
    {
     "name": "stderr",
     "output_type": "stream",
     "text": [
      "/home/pemami/anaconda3/lib/python3.6/site-packages/torch/serialization.py:286: SourceChangeWarning: source code of class 'spg.models.SPGSiameseActor' has changed. you can retrieve the original source code by accessing the object's source attribute or set `torch.nn.Module.dump_patches = True` and use the patch tool to revert the changes.\n",
      "  warnings.warn(msg, SourceChangeWarning)\n"
     ]
    },
    {
     "data": {
      "image/png": "[encoded data removed]",
      "text/plain": [
       "<matplotlib.figure.Figure at 0x7f366d21c2e8>"
      ]
     },
     "metadata": {},
     "output_type": "display_data"
    }
   ],
   "source": [
    "epoch = 2\n",
    "actor_path = os.path.join(mwm2D_10_path, 'actor-epoch-2.pt')\n",
    "critic_path = os.path.join(mwm2D_10_path, 'critic-epoch-2.pt')\n",
    "plot_epoch(actor_path, critic_path, state, epoch, N)"
   ]
  },
  {
   "cell_type": "code",
   "execution_count": 195,
   "metadata": {},
   "outputs": [
    {
     "name": "stderr",
     "output_type": "stream",
     "text": [
      "/home/pemami/anaconda3/lib/python3.6/site-packages/torch/serialization.py:286: SourceChangeWarning: source code of class 'spg.models.SPGSiameseActor' has changed. you can retrieve the original source code by accessing the object's source attribute or set `torch.nn.Module.dump_patches = True` and use the patch tool to revert the changes.\n",
      "  warnings.warn(msg, SourceChangeWarning)\n"
     ]
    },
    {
     "name": "stdout",
     "output_type": "stream",
     "text": [
      "Actor loss = -8.652983665466309\n"
     ]
    },
    {
     "data": {
      "image/png": "[encoded data removed]",
      "text/plain": [
       "<matplotlib.figure.Figure at 0x7f3605060240>"
      ]
     },
     "metadata": {},
     "output_type": "display_data"
    }
   ],
   "source": [
    "epoch = 3\n",
    "actor_path = os.path.join(mwm2D_10_path, 'actor-epoch-3.pt')\n",
    "critic_path = os.path.join(mwm2D_10_path, 'critic-epoch-3.pt')\n",
    "plot_epoch(actor_path, critic_path, state, epoch, N)"
   ]
  },
  {
   "cell_type": "code",
   "execution_count": 196,
   "metadata": {},
   "outputs": [
    {
     "name": "stderr",
     "output_type": "stream",
     "text": [
      "/home/pemami/anaconda3/lib/python3.6/site-packages/torch/serialization.py:286: SourceChangeWarning: source code of class 'spg.models.SPGSiameseActor' has changed. you can retrieve the original source code by accessing the object's source attribute or set `torch.nn.Module.dump_patches = True` and use the patch tool to revert the changes.\n",
      "  warnings.warn(msg, SourceChangeWarning)\n"
     ]
    },
    {
     "name": "stdout",
     "output_type": "stream",
     "text": [
      "Actor loss = -9.04452133178711\n"
     ]
    },
    {
     "data": {
      "image/png": "[encoded data removed]",
      "text/plain": [
       "<matplotlib.figure.Figure at 0x7f3603502f28>"
      ]
     },
     "metadata": {},
     "output_type": "display_data"
    }
   ],
   "source": [
    "epoch = 4\n",
    "actor_path = os.path.join(mwm2D_10_path, 'actor-epoch-4.pt')\n",
    "critic_path = os.path.join(mwm2D_10_path, 'critic-epoch-4.pt')\n",
    "plot_epoch(actor_path, critic_path, state, epoch, N)"
   ]
  }
 ],
 "metadata": {
  "kernelspec": {
   "display_name": "Python 3",
   "language": "python",
   "name": "python3"
  },
  "language_info": {
   "codemirror_mode": {
    "name": "ipython",
    "version": 3
   },
   "file_extension": ".py",
   "mimetype": "text/x-python",
   "name": "python",
   "nbconvert_exporter": "python",
   "pygments_lexer": "ipython3",
   "version": "3.6.1"
  }
 },
 "nbformat": 4,
 "nbformat_minor": 2
}
